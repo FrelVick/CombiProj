{
 "cells": [
  {
   "cell_type": "markdown",
   "metadata": {},
   "source": [
    "# Démo projet Combinatoire"
   ]
  },
  {
   "cell_type": "code",
   "execution_count": 4,
   "metadata": {},
   "outputs": [],
   "source": [
    "from IPython.display import HTML\n",
    "import Rules as R\n",
    "import Grammars as G\n"
   ]
  },
  {
   "cell_type": "code",
   "execution_count": 5,
   "metadata": {},
   "outputs": [],
   "source": [
    "'''Vérifie que tous les non-terminaux apparaissant dans \n",
    "les règles sont bien définis dans la grammaire '''\n",
    "def check_defined_rules (grammar):\n",
    "    for rule_id in grammar:\n",
    "        rule = grammar[rule_id]\n",
    "        if isinstance(rule, R.ConstructorRule):\n",
    "            fst, snd = rule._parameters\n",
    "            if not (fst in grammar):\n",
    "                raise IncorrectGrammar(fst+\" rule not defined in grammar\")\n",
    "            if not ( snd in grammar):\n",
    "               raise IncorrectGrammar(snd+\" rule not defined in grammar\")\n",
    "\n",
    "            \n",
    "# Sets grammar for each rule, computes valuations, checks grammar\n",
    "def init_grammar (grammar):\n",
    "\n",
    "    for rule_id in grammar:\n",
    "        grammar[rule_id]._set_grammar(grammar)\n",
    "\n",
    "    check_defined_rules(grammar)\n",
    "\n",
    "    ''' Pour le calcul des valuations on a besoin de comparer \n",
    "    les résultats de l'itération courante avec ceux de l'itération précédente,\n",
    "    on stocke donc les valuations calculées dans les dictionnaires val_before \n",
    "    et val_after'''\n",
    "\n",
    "    val_before, val_after = {}, {}\n",
    "\n",
    "    for rule in grammar.values():\n",
    "        if isinstance(rule, R.ConstructorRule):\n",
    "            val_before[rule] = rule.valuation() \n",
    "            val_after [rule] = 0\n",
    "\n",
    "    # Tant que l'on n'a pas atteint le point fixe, on met à jour les valuations \n",
    "    while (val_before != val_after):\n",
    "        val_before = val_after.copy()\n",
    "        for rule in val_after:\n",
    "            rule._update_valuation()\n",
    "            val_after[rule] = rule.valuation()\n",
    "   \n",
    "    # Si on atteint un point fixe pour lequel une des règles à une valuation infine,\n",
    "    # la grammaire est mal construite\n",
    "    for rule_id in grammar:\n",
    "        if grammar[rule_id].valuation() == float('inf'):\n",
    "            raise IncorrectGrammar(\"Rule \"+rule_id+\" is incorrect (inf valuation)\")\n",
    "\n",
    "   \n",
    "# Récupérer un dictionnaire associant à chaque règle de la \n",
    "#  grammaire sa valuation\n",
    "def get_valuation(gram):\n",
    "    d = {}\n",
    "    for rule_name in gram:\n",
    "        d[rule_name] = gram[rule_name].valuation()\n",
    "    return d\n",
    "\n"
   ]
  },
  {
   "cell_type": "markdown",
   "metadata": {},
   "source": [
    "On récupère un dictionnaire qui contient toutes les grammaires définies,\n",
    "puis on vérifie que tous les non-terminaux de la grammaire sont bien définis (fonction check_defined_rules), on calcule les valuations et on initialise les grammaires (fonction init_grammar)"
   ]
  },
  {
   "cell_type": "code",
   "execution_count": 6,
   "metadata": {},
   "outputs": [],
   "source": [
    "grammars = G.grammars\n",
    "\n",
    "for g in grammars:\n",
    "    check_defined_rules(grammars[g][0])\n",
    "    init_grammar(grammars[g][0])\n"
   ]
  },
  {
   "cell_type": "code",
   "execution_count": 31,
   "metadata": {},
   "outputs": [],
   "source": [
    "def tests (name, gram, rule_init, card_fun, n, valuation = []):\n",
    "    print (\"\\nTests on \"+name)\n",
    "    print(\"\\n\")\n",
    "    #G.print_grammar(gram)\n",
    "    rule = gram[rule_init]\n",
    "    try:\n",
    "        \n",
    "        # V A L U A T I O N \n",
    "\n",
    "        if len(valuation) != 0:\n",
    "            print (\"Valuation:\")\n",
    "            assert (valuation == get_valuation(gram))\n",
    "            display(HTML(\"<p style=\\\"color:green;\\\">Passed</p>\"))\n",
    "\n",
    "        # C A R D I N A L I T Y\n",
    "\n",
    "        print (\"\\nCardinality:\")\n",
    "        for i in range(n):\n",
    "            count = rule.count(i)\n",
    "            assert (count == card_fun(i))\n",
    "            assert (count == len(rule.list(i)))\n",
    "        display(HTML(\"<p style=\\\"color:green;\\\">Passed</p>\"))\n",
    "\n",
    "        # R A N K\n",
    "\n",
    "        try:\n",
    "            print (\"\\nRank:\")\n",
    "            assert([rule.rank(i) for i in rule.list(n)] == list(range(rule.count(n))))\n",
    "            display(HTML(\"<p style=\\\"color:green;\\\">Passed</p>\"))\n",
    "        except NotImplementedError:\n",
    "            print (\"Rank not available for this grammar\")\n",
    "            \n",
    "        # U N R A N K\n",
    "\n",
    "        print(\"\\nUnrank:\")\n",
    "        assert(rule.list(n) == [rule.unrank(n, i) for i in list(range(rule.count(n)))])\n",
    "        display(HTML(\"<p style=\\\"color:green;\\\">Passed</p>\"))\n",
    "\n",
    "        # V A L U A T I O N  &  C O U N T\n",
    "\n",
    "        ''' La valuation correspond au plus petit mot qu'une règle peut produire :\n",
    "        on vérifie donc pour chaque règle que la valeur de la valuation calculée correspond au plus \n",
    "        petit produit par la règle'''\n",
    "        \n",
    "        print(\"\\nValuation & Count:\")\n",
    "        valuation = get_valuation(gram)\n",
    "        for rule_name in gram:\n",
    "            i = 0\n",
    "            while gram[rule_name].count(i) == 0:\n",
    "                i += 1\n",
    "            assert(i == valuation[rule_name])\n",
    "        display(HTML(\"<p style=\\\"color:green;\\\">Passed</p>\"))\n",
    "        \n",
    "    except AssertionError:\n",
    "        display(HTML(\"<p style=\\\"color:red;\\\">Not passed</p>\"))\n"
   ]
  },
  {
   "cell_type": "code",
   "execution_count": 32,
   "metadata": {
    "scrolled": false
   },
   "outputs": [
    {
     "name": "stdout",
     "output_type": "stream",
     "text": [
      "\n",
      "Tests on ABPalindrome\n",
      "\n",
      "\n",
      "\n",
      "Cardinality:\n"
     ]
    },
    {
     "data": {
      "text/html": [
       "<p style=\"color:green;\">Passed</p>"
      ],
      "text/plain": [
       "<IPython.core.display.HTML object>"
      ]
     },
     "metadata": {},
     "output_type": "display_data"
    },
    {
     "name": "stdout",
     "output_type": "stream",
     "text": [
      "\n",
      "Rank:\n"
     ]
    },
    {
     "data": {
      "text/html": [
       "<p style=\"color:green;\">Passed</p>"
      ],
      "text/plain": [
       "<IPython.core.display.HTML object>"
      ]
     },
     "metadata": {},
     "output_type": "display_data"
    },
    {
     "name": "stdout",
     "output_type": "stream",
     "text": [
      "\n",
      "Unrank:\n"
     ]
    },
    {
     "data": {
      "text/html": [
       "<p style=\"color:green;\">Passed</p>"
      ],
      "text/plain": [
       "<IPython.core.display.HTML object>"
      ]
     },
     "metadata": {},
     "output_type": "display_data"
    },
    {
     "name": "stdout",
     "output_type": "stream",
     "text": [
      "\n",
      "Valuation & Count:\n"
     ]
    },
    {
     "data": {
      "text/html": [
       "<p style=\"color:green;\">Passed</p>"
      ],
      "text/plain": [
       "<IPython.core.display.HTML object>"
      ]
     },
     "metadata": {},
     "output_type": "display_data"
    },
    {
     "name": "stdout",
     "output_type": "stream",
     "text": [
      "\n",
      "Tests on ThreeGram\n",
      "\n",
      "\n",
      "\n",
      "Cardinality:\n"
     ]
    },
    {
     "data": {
      "text/html": [
       "<p style=\"color:green;\">Passed</p>"
      ],
      "text/plain": [
       "<IPython.core.display.HTML object>"
      ]
     },
     "metadata": {},
     "output_type": "display_data"
    },
    {
     "name": "stdout",
     "output_type": "stream",
     "text": [
      "\n",
      "Rank:\n"
     ]
    },
    {
     "data": {
      "text/html": [
       "<p style=\"color:green;\">Passed</p>"
      ],
      "text/plain": [
       "<IPython.core.display.HTML object>"
      ]
     },
     "metadata": {},
     "output_type": "display_data"
    },
    {
     "name": "stdout",
     "output_type": "stream",
     "text": [
      "\n",
      "Unrank:\n"
     ]
    },
    {
     "data": {
      "text/html": [
       "<p style=\"color:green;\">Passed</p>"
      ],
      "text/plain": [
       "<IPython.core.display.HTML object>"
      ]
     },
     "metadata": {},
     "output_type": "display_data"
    },
    {
     "name": "stdout",
     "output_type": "stream",
     "text": [
      "\n",
      "Valuation & Count:\n"
     ]
    },
    {
     "data": {
      "text/html": [
       "<p style=\"color:green;\">Passed</p>"
      ],
      "text/plain": [
       "<IPython.core.display.HTML object>"
      ]
     },
     "metadata": {},
     "output_type": "display_data"
    },
    {
     "name": "stdout",
     "output_type": "stream",
     "text": [
      "\n",
      "Tests on DyckGram\n",
      "\n",
      "\n",
      "\n",
      "Cardinality:\n"
     ]
    },
    {
     "data": {
      "text/html": [
       "<p style=\"color:green;\">Passed</p>"
      ],
      "text/plain": [
       "<IPython.core.display.HTML object>"
      ]
     },
     "metadata": {},
     "output_type": "display_data"
    },
    {
     "name": "stdout",
     "output_type": "stream",
     "text": [
      "\n",
      "Rank:\n"
     ]
    },
    {
     "data": {
      "text/html": [
       "<p style=\"color:green;\">Passed</p>"
      ],
      "text/plain": [
       "<IPython.core.display.HTML object>"
      ]
     },
     "metadata": {},
     "output_type": "display_data"
    },
    {
     "name": "stdout",
     "output_type": "stream",
     "text": [
      "\n",
      "Unrank:\n"
     ]
    },
    {
     "data": {
      "text/html": [
       "<p style=\"color:green;\">Passed</p>"
      ],
      "text/plain": [
       "<IPython.core.display.HTML object>"
      ]
     },
     "metadata": {},
     "output_type": "display_data"
    },
    {
     "name": "stdout",
     "output_type": "stream",
     "text": [
      "\n",
      "Valuation & Count:\n"
     ]
    },
    {
     "data": {
      "text/html": [
       "<p style=\"color:green;\">Passed</p>"
      ],
      "text/plain": [
       "<IPython.core.display.HTML object>"
      ]
     },
     "metadata": {},
     "output_type": "display_data"
    },
    {
     "name": "stdout",
     "output_type": "stream",
     "text": [
      "\n",
      "Tests on TwoGram\n",
      "\n",
      "\n",
      "\n",
      "Cardinality:\n"
     ]
    },
    {
     "data": {
      "text/html": [
       "<p style=\"color:green;\">Passed</p>"
      ],
      "text/plain": [
       "<IPython.core.display.HTML object>"
      ]
     },
     "metadata": {},
     "output_type": "display_data"
    },
    {
     "name": "stdout",
     "output_type": "stream",
     "text": [
      "\n",
      "Rank:\n"
     ]
    },
    {
     "data": {
      "text/html": [
       "<p style=\"color:green;\">Passed</p>"
      ],
      "text/plain": [
       "<IPython.core.display.HTML object>"
      ]
     },
     "metadata": {},
     "output_type": "display_data"
    },
    {
     "name": "stdout",
     "output_type": "stream",
     "text": [
      "\n",
      "Unrank:\n"
     ]
    },
    {
     "data": {
      "text/html": [
       "<p style=\"color:green;\">Passed</p>"
      ],
      "text/plain": [
       "<IPython.core.display.HTML object>"
      ]
     },
     "metadata": {},
     "output_type": "display_data"
    },
    {
     "name": "stdout",
     "output_type": "stream",
     "text": [
      "\n",
      "Valuation & Count:\n"
     ]
    },
    {
     "data": {
      "text/html": [
       "<p style=\"color:green;\">Passed</p>"
      ],
      "text/plain": [
       "<IPython.core.display.HTML object>"
      ]
     },
     "metadata": {},
     "output_type": "display_data"
    },
    {
     "name": "stdout",
     "output_type": "stream",
     "text": [
      "\n",
      "Tests on ABGram\n",
      "\n",
      "\n",
      "\n",
      "Cardinality:\n"
     ]
    },
    {
     "data": {
      "text/html": [
       "<p style=\"color:green;\">Passed</p>"
      ],
      "text/plain": [
       "<IPython.core.display.HTML object>"
      ]
     },
     "metadata": {},
     "output_type": "display_data"
    },
    {
     "name": "stdout",
     "output_type": "stream",
     "text": [
      "\n",
      "Rank:\n"
     ]
    },
    {
     "data": {
      "text/html": [
       "<p style=\"color:green;\">Passed</p>"
      ],
      "text/plain": [
       "<IPython.core.display.HTML object>"
      ]
     },
     "metadata": {},
     "output_type": "display_data"
    },
    {
     "name": "stdout",
     "output_type": "stream",
     "text": [
      "\n",
      "Unrank:\n"
     ]
    },
    {
     "data": {
      "text/html": [
       "<p style=\"color:green;\">Passed</p>"
      ],
      "text/plain": [
       "<IPython.core.display.HTML object>"
      ]
     },
     "metadata": {},
     "output_type": "display_data"
    },
    {
     "name": "stdout",
     "output_type": "stream",
     "text": [
      "\n",
      "Valuation & Count:\n"
     ]
    },
    {
     "data": {
      "text/html": [
       "<p style=\"color:green;\">Passed</p>"
      ],
      "text/plain": [
       "<IPython.core.display.HTML object>"
      ]
     },
     "metadata": {},
     "output_type": "display_data"
    },
    {
     "name": "stdout",
     "output_type": "stream",
     "text": [
      "\n",
      "Tests on ABCPalindrome\n",
      "\n",
      "\n",
      "\n",
      "Cardinality:\n"
     ]
    },
    {
     "data": {
      "text/html": [
       "<p style=\"color:green;\">Passed</p>"
      ],
      "text/plain": [
       "<IPython.core.display.HTML object>"
      ]
     },
     "metadata": {},
     "output_type": "display_data"
    },
    {
     "name": "stdout",
     "output_type": "stream",
     "text": [
      "\n",
      "Rank:\n"
     ]
    },
    {
     "data": {
      "text/html": [
       "<p style=\"color:green;\">Passed</p>"
      ],
      "text/plain": [
       "<IPython.core.display.HTML object>"
      ]
     },
     "metadata": {},
     "output_type": "display_data"
    },
    {
     "name": "stdout",
     "output_type": "stream",
     "text": [
      "\n",
      "Unrank:\n"
     ]
    },
    {
     "data": {
      "text/html": [
       "<p style=\"color:green;\">Passed</p>"
      ],
      "text/plain": [
       "<IPython.core.display.HTML object>"
      ]
     },
     "metadata": {},
     "output_type": "display_data"
    },
    {
     "name": "stdout",
     "output_type": "stream",
     "text": [
      "\n",
      "Valuation & Count:\n"
     ]
    },
    {
     "data": {
      "text/html": [
       "<p style=\"color:green;\">Passed</p>"
      ],
      "text/plain": [
       "<IPython.core.display.HTML object>"
      ]
     },
     "metadata": {},
     "output_type": "display_data"
    },
    {
     "name": "stdout",
     "output_type": "stream",
     "text": [
      "\n",
      "Tests on treeGram\n",
      "\n",
      "\n",
      "\n",
      "Cardinality:\n"
     ]
    },
    {
     "data": {
      "text/html": [
       "<p style=\"color:green;\">Passed</p>"
      ],
      "text/plain": [
       "<IPython.core.display.HTML object>"
      ]
     },
     "metadata": {},
     "output_type": "display_data"
    },
    {
     "name": "stdout",
     "output_type": "stream",
     "text": [
      "\n",
      "Rank:\n"
     ]
    },
    {
     "data": {
      "text/html": [
       "<p style=\"color:green;\">Passed</p>"
      ],
      "text/plain": [
       "<IPython.core.display.HTML object>"
      ]
     },
     "metadata": {},
     "output_type": "display_data"
    },
    {
     "name": "stdout",
     "output_type": "stream",
     "text": [
      "\n",
      "Unrank:\n"
     ]
    },
    {
     "data": {
      "text/html": [
       "<p style=\"color:green;\">Passed</p>"
      ],
      "text/plain": [
       "<IPython.core.display.HTML object>"
      ]
     },
     "metadata": {},
     "output_type": "display_data"
    },
    {
     "name": "stdout",
     "output_type": "stream",
     "text": [
      "\n",
      "Valuation & Count:\n"
     ]
    },
    {
     "data": {
      "text/html": [
       "<p style=\"color:green;\">Passed</p>"
      ],
      "text/plain": [
       "<IPython.core.display.HTML object>"
      ]
     },
     "metadata": {},
     "output_type": "display_data"
    },
    {
     "name": "stdout",
     "output_type": "stream",
     "text": [
      "\n",
      "Tests on fiboGram\n",
      "\n",
      "\n",
      "\n",
      "Cardinality:\n"
     ]
    },
    {
     "data": {
      "text/html": [
       "<p style=\"color:green;\">Passed</p>"
      ],
      "text/plain": [
       "<IPython.core.display.HTML object>"
      ]
     },
     "metadata": {},
     "output_type": "display_data"
    },
    {
     "name": "stdout",
     "output_type": "stream",
     "text": [
      "\n",
      "Rank:\n"
     ]
    },
    {
     "data": {
      "text/html": [
       "<p style=\"color:green;\">Passed</p>"
      ],
      "text/plain": [
       "<IPython.core.display.HTML object>"
      ]
     },
     "metadata": {},
     "output_type": "display_data"
    },
    {
     "name": "stdout",
     "output_type": "stream",
     "text": [
      "\n",
      "Unrank:\n"
     ]
    },
    {
     "data": {
      "text/html": [
       "<p style=\"color:green;\">Passed</p>"
      ],
      "text/plain": [
       "<IPython.core.display.HTML object>"
      ]
     },
     "metadata": {},
     "output_type": "display_data"
    },
    {
     "name": "stdout",
     "output_type": "stream",
     "text": [
      "\n",
      "Valuation & Count:\n"
     ]
    },
    {
     "data": {
      "text/html": [
       "<p style=\"color:green;\">Passed</p>"
      ],
      "text/plain": [
       "<IPython.core.display.HTML object>"
      ]
     },
     "metadata": {},
     "output_type": "display_data"
    }
   ],
   "source": [
    "Test_Size = 10\n",
    "\n",
    "for g in grammars:\n",
    "    tests(g, grammars[g][0], grammars[g][1], grammars[g][2], Test_Size)\n"
   ]
  },
  {
   "cell_type": "markdown",
   "metadata": {},
   "source": [
    "TODO:\n",
    " \n",
    "    POUR LA DEMO :\n",
    "    \n",
    "    -> Améliorer affichage résultats tests\n",
    "    \n",
    "    -> Ajouter proprement la grammaire even\n",
    "    \n",
    "    -> Ajouter exemples list count rank unrank\n",
    "\n",
    "    -> Ajouter les valuations calculées à la main pour les tests\n",
    "    \n",
    "    -> Pour rank montrer un exemple de définition de grammaire avec les fonctions ajoutées.\n",
    "    \n",
    "    -> Pour les grammaires condensées, relancer les tests\n",
    "    \n",
    "    -> Test grammaires condensées <=> grammaires développées\n",
    "    \n",
    "    -> Constructeur Bound -> Redéfinir les test + quelques exemples\n",
    "    \n",
    "    -> Constructeur Sequence -> exemple grammaire de Dyck\n",
    "    \n",
    "    -> Ajouter grammaire HTML ?\n",
    "    \n",
    "    -> Tests ajouter cas <0 ??\n",
    "    \n",
    "    POUR LE RAPPORT :\n",
    "    \n",
    "    -> Ajouter definition grammaire even\n",
    "    \n",
    "    -> Ajouter valuation even\n",
    "    \n",
    "    -> Check defined rules\n",
    "    \n",
    "    -> Spécification tests\n",
    "    \n",
    "    -> Précisions algos rank unrank count list + exemmple pour rank\n",
    "    \n",
    "    -> Ajout grammaires condensées\n",
    "    \n",
    "    -> Bound définitions\n",
    "    \n",
    "    -> Sequence définitions\n",
    "    "
   ]
  },
  {
   "cell_type": "code",
   "execution_count": null,
   "metadata": {},
   "outputs": [],
   "source": []
  }
 ],
 "metadata": {
  "kernelspec": {
   "display_name": "Python 3",
   "language": "python",
   "name": "python3"
  },
  "language_info": {
   "codemirror_mode": {
    "name": "ipython",
    "version": 3
   },
   "file_extension": ".py",
   "mimetype": "text/x-python",
   "name": "python",
   "nbconvert_exporter": "python",
   "pygments_lexer": "ipython3",
   "version": "3.5.2"
  }
 },
 "nbformat": 4,
 "nbformat_minor": 2
}
