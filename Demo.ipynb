{
 "cells": [
  {
   "cell_type": "markdown",
   "metadata": {},
   "source": [
    "# Démo projet Combinatoire"
   ]
  },
  {
   "cell_type": "code",
   "execution_count": 2,
   "metadata": {},
   "outputs": [],
   "source": [
    "from IPython.display import HTML\n",
    "import Rules as R\n",
    "import Grammars as G\n",
    "import GrammarsC as GC\n",
    "import CRules as CR\n"
   ]
  },
  {
   "cell_type": "code",
   "execution_count": 3,
   "metadata": {},
   "outputs": [],
   "source": [
    "class IncorrectGrammar(Exception):\n",
    "\n",
    "    def __init__(self, message):\n",
    "        super(IncorrectGrammar, self).__init__(message)\n",
    "        \n",
    "'''Vérifie que tous les non-terminaux apparaissant dans \n",
    "les règles sont bien définis dans la grammaire '''\n",
    "def check_defined_rules (grammar):\n",
    "    for rule_id in grammar:\n",
    "        rule = grammar[rule_id]\n",
    "        if isinstance(rule, R.ConstructorRule):\n",
    "            fst, snd = rule._parameters\n",
    "            if not (fst in grammar):\n",
    "                raise IncorrectGrammar(fst+\" rule not defined in grammar\")\n",
    "            if not ( snd in grammar):\n",
    "                raise IncorrectGrammar(snd+\" rule not defined in grammar\")\n",
    "\n",
    "            \n",
    "# Sets grammar for each rule, computes valuations, checks grammar\n",
    "def init_grammar (grammar):\n",
    "\n",
    "    for rule_id in grammar:\n",
    "        grammar[rule_id]._set_grammar(grammar)\n",
    "\n",
    "    check_defined_rules(grammar)\n",
    "\n",
    "    ''' Pour le calcul des valuations on a besoin de comparer \n",
    "    les résultats de l'itération courante avec ceux de l'itération précédente,\n",
    "    on stocke donc les valuations calculées dans les dictionnaires val_before \n",
    "    et val_after'''\n",
    "\n",
    "    val_before, val_after = {}, {}\n",
    "\n",
    "    for rule in grammar.values():\n",
    "        if isinstance(rule, R.ConstructorRule):\n",
    "            val_before[rule] = rule.valuation() \n",
    "            val_after [rule] = 0\n",
    "\n",
    "    # Tant que l'on n'a pas atteint le point fixe, on met à jour les valuations \n",
    "    while (val_before != val_after):\n",
    "        val_before = val_after.copy()\n",
    "        for rule in val_after:\n",
    "            rule._update_valuation()\n",
    "            val_after[rule] = rule.valuation()\n",
    "   \n",
    "    # Si on atteint un point fixe pour lequel une des règles à une valuation infine,\n",
    "    # la grammaire est mal construite\n",
    "    for rule_id in grammar:\n",
    "        if grammar[rule_id].valuation() == float('inf'):\n",
    "            raise IncorrectGrammar(\"Rule \"+rule_id+\" is incorrect (inf valuation)\")\n",
    "\n",
    "   \n",
    "# Récupérer un dictionnaire associant à chaque règle de la \n",
    "#  grammaire sa valuation\n",
    "def get_valuation(gram):\n",
    "    d = {}\n",
    "    for rule_name in gram:\n",
    "        d[rule_name] = gram[rule_name].valuation()\n",
    "    return d\n",
    "\n"
   ]
  },
  {
   "cell_type": "markdown",
   "metadata": {},
   "source": [
    "On récupère un dictionnaire qui contient toutes les grammaires définies,\n",
    "puis on vérifie que tous les non-terminaux de la grammaire sont bien définis (fonction check_defined_rules), on calcule les valuations et on initialise les grammaires (fonction init_grammar)"
   ]
  },
  {
   "cell_type": "code",
   "execution_count": 4,
   "metadata": {},
   "outputs": [],
   "source": [
    "grammars = G.grammars\n",
    "\n",
    "for g in grammars:\n",
    "    check_defined_rules(grammars[g][0])\n",
    "    init_grammar(grammars[g][0])\n"
   ]
  },
  {
   "cell_type": "code",
   "execution_count": 5,
   "metadata": {},
   "outputs": [],
   "source": [
    "''' EFFECTUE LES TEST POUR i = 0, ...., n - 1'''\n",
    "def tests (name, gram, rule_init, card_fun, n, valuation = []):\n",
    "    print (\"\\nTests on \"+name)\n",
    "    print(\"\\n\")\n",
    "    #G.print_grammar(gram)\n",
    "    rule = gram[rule_init]\n",
    "    try:\n",
    "        \n",
    "        # V A L U A T I O N \n",
    "\n",
    "        if len(valuation) != 0:\n",
    "            print (\"Valuation:\")\n",
    "            assert (valuation == get_valuation(gram))\n",
    "            display(HTML(\"<p style=\\\"color:green;\\\">Passed</p>\"))\n",
    "\n",
    "        # C A R D I N A L I T Y\n",
    "\n",
    "        print (\"\\nCardinality:\")\n",
    "        for i in range(n):\n",
    "            count = rule.count(i)\n",
    "            assert (count == card_fun(i))\n",
    "            assert (count == len(rule.list(i)))\n",
    "        display(HTML(\"<p style=\\\"color:green;\\\">Passed</p>\"))\n",
    "\n",
    "        # R A N K\n",
    "\n",
    "        try:\n",
    "            print (\"\\nRank:\")\n",
    "            for j in range(n):\n",
    "                assert([rule.rank(i) for i in rule.list(j)] == list(range(rule.count(j))))\n",
    "            display(HTML(\"<p style=\\\"color:green;\\\">Passed</p>\"))\n",
    "        except NotImplementedError:\n",
    "            print (\"Rank not available for this grammar\")\n",
    "            \n",
    "        # U N R A N K\n",
    "\n",
    "        print(\"\\nUnrank:\")\n",
    "        for j in range(n):\n",
    "            assert(rule.list(j) == [rule.unrank(j, i) for i in list(range(rule.count(j)))])\n",
    "        display(HTML(\"<p style=\\\"color:green;\\\">Passed</p>\"))\n",
    "\n",
    "        # V A L U A T I O N  &  C O U N T\n",
    "\n",
    "        ''' La valuation correspond au plus petit mot qu'une règle peut produire :\n",
    "        on vérifie donc pour chaque règle que la valeur de la valuation calculée correspond au plus \n",
    "        petit produit par la règle'''\n",
    "        \n",
    "        print(\"\\nValuation & Count:\")\n",
    "        valuation = get_valuation(gram)\n",
    "        for rule_name in gram:\n",
    "            i = 0\n",
    "            while gram[rule_name].count(i) == 0:\n",
    "                i += 1\n",
    "            assert(i == valuation[rule_name])\n",
    "        display(HTML(\"<p style=\\\"color:green;\\\">Passed</p>\"))\n",
    "        \n",
    "    except AssertionError:\n",
    "        display(HTML(\"<p style=\\\"color:red;\\\">Not passed</p>\"))\n"
   ]
  },
  {
   "cell_type": "code",
   "execution_count": 6,
   "metadata": {
    "scrolled": true
   },
   "outputs": [
    {
     "name": "stdout",
     "output_type": "stream",
     "text": [
      "\n",
      "Tests on ABCPalindrome\n",
      "\n",
      "\n",
      "\n",
      "Cardinality:\n"
     ]
    },
    {
     "data": {
      "text/html": [
       "<p style=\"color:green;\">Passed</p>"
      ],
      "text/plain": [
       "<IPython.core.display.HTML object>"
      ]
     },
     "metadata": {},
     "output_type": "display_data"
    },
    {
     "name": "stdout",
     "output_type": "stream",
     "text": [
      "\n",
      "Rank:\n"
     ]
    },
    {
     "data": {
      "text/html": [
       "<p style=\"color:green;\">Passed</p>"
      ],
      "text/plain": [
       "<IPython.core.display.HTML object>"
      ]
     },
     "metadata": {},
     "output_type": "display_data"
    },
    {
     "name": "stdout",
     "output_type": "stream",
     "text": [
      "\n",
      "Unrank:\n"
     ]
    },
    {
     "data": {
      "text/html": [
       "<p style=\"color:green;\">Passed</p>"
      ],
      "text/plain": [
       "<IPython.core.display.HTML object>"
      ]
     },
     "metadata": {},
     "output_type": "display_data"
    },
    {
     "name": "stdout",
     "output_type": "stream",
     "text": [
      "\n",
      "Valuation & Count:\n"
     ]
    },
    {
     "data": {
      "text/html": [
       "<p style=\"color:green;\">Passed</p>"
      ],
      "text/plain": [
       "<IPython.core.display.HTML object>"
      ]
     },
     "metadata": {},
     "output_type": "display_data"
    },
    {
     "name": "stdout",
     "output_type": "stream",
     "text": [
      "\n",
      "Tests on ThreeGram\n",
      "\n",
      "\n",
      "\n",
      "Cardinality:\n"
     ]
    },
    {
     "data": {
      "text/html": [
       "<p style=\"color:green;\">Passed</p>"
      ],
      "text/plain": [
       "<IPython.core.display.HTML object>"
      ]
     },
     "metadata": {},
     "output_type": "display_data"
    },
    {
     "name": "stdout",
     "output_type": "stream",
     "text": [
      "\n",
      "Rank:\n"
     ]
    },
    {
     "data": {
      "text/html": [
       "<p style=\"color:green;\">Passed</p>"
      ],
      "text/plain": [
       "<IPython.core.display.HTML object>"
      ]
     },
     "metadata": {},
     "output_type": "display_data"
    },
    {
     "name": "stdout",
     "output_type": "stream",
     "text": [
      "\n",
      "Unrank:\n"
     ]
    },
    {
     "data": {
      "text/html": [
       "<p style=\"color:green;\">Passed</p>"
      ],
      "text/plain": [
       "<IPython.core.display.HTML object>"
      ]
     },
     "metadata": {},
     "output_type": "display_data"
    },
    {
     "name": "stdout",
     "output_type": "stream",
     "text": [
      "\n",
      "Valuation & Count:\n"
     ]
    },
    {
     "data": {
      "text/html": [
       "<p style=\"color:green;\">Passed</p>"
      ],
      "text/plain": [
       "<IPython.core.display.HTML object>"
      ]
     },
     "metadata": {},
     "output_type": "display_data"
    },
    {
     "name": "stdout",
     "output_type": "stream",
     "text": [
      "\n",
      "Tests on ABGram\n",
      "\n",
      "\n",
      "\n",
      "Cardinality:\n"
     ]
    },
    {
     "data": {
      "text/html": [
       "<p style=\"color:green;\">Passed</p>"
      ],
      "text/plain": [
       "<IPython.core.display.HTML object>"
      ]
     },
     "metadata": {},
     "output_type": "display_data"
    },
    {
     "name": "stdout",
     "output_type": "stream",
     "text": [
      "\n",
      "Rank:\n"
     ]
    },
    {
     "data": {
      "text/html": [
       "<p style=\"color:green;\">Passed</p>"
      ],
      "text/plain": [
       "<IPython.core.display.HTML object>"
      ]
     },
     "metadata": {},
     "output_type": "display_data"
    },
    {
     "name": "stdout",
     "output_type": "stream",
     "text": [
      "\n",
      "Unrank:\n"
     ]
    },
    {
     "data": {
      "text/html": [
       "<p style=\"color:green;\">Passed</p>"
      ],
      "text/plain": [
       "<IPython.core.display.HTML object>"
      ]
     },
     "metadata": {},
     "output_type": "display_data"
    },
    {
     "name": "stdout",
     "output_type": "stream",
     "text": [
      "\n",
      "Valuation & Count:\n"
     ]
    },
    {
     "data": {
      "text/html": [
       "<p style=\"color:green;\">Passed</p>"
      ],
      "text/plain": [
       "<IPython.core.display.HTML object>"
      ]
     },
     "metadata": {},
     "output_type": "display_data"
    },
    {
     "name": "stdout",
     "output_type": "stream",
     "text": [
      "\n",
      "Tests on ABPalindrome\n",
      "\n",
      "\n",
      "\n",
      "Cardinality:\n"
     ]
    },
    {
     "data": {
      "text/html": [
       "<p style=\"color:green;\">Passed</p>"
      ],
      "text/plain": [
       "<IPython.core.display.HTML object>"
      ]
     },
     "metadata": {},
     "output_type": "display_data"
    },
    {
     "name": "stdout",
     "output_type": "stream",
     "text": [
      "\n",
      "Rank:\n"
     ]
    },
    {
     "data": {
      "text/html": [
       "<p style=\"color:green;\">Passed</p>"
      ],
      "text/plain": [
       "<IPython.core.display.HTML object>"
      ]
     },
     "metadata": {},
     "output_type": "display_data"
    },
    {
     "name": "stdout",
     "output_type": "stream",
     "text": [
      "\n",
      "Unrank:\n"
     ]
    },
    {
     "data": {
      "text/html": [
       "<p style=\"color:green;\">Passed</p>"
      ],
      "text/plain": [
       "<IPython.core.display.HTML object>"
      ]
     },
     "metadata": {},
     "output_type": "display_data"
    },
    {
     "name": "stdout",
     "output_type": "stream",
     "text": [
      "\n",
      "Valuation & Count:\n"
     ]
    },
    {
     "data": {
      "text/html": [
       "<p style=\"color:green;\">Passed</p>"
      ],
      "text/plain": [
       "<IPython.core.display.HTML object>"
      ]
     },
     "metadata": {},
     "output_type": "display_data"
    },
    {
     "name": "stdout",
     "output_type": "stream",
     "text": [
      "\n",
      "Tests on fiboGram\n",
      "\n",
      "\n",
      "\n",
      "Cardinality:\n"
     ]
    },
    {
     "data": {
      "text/html": [
       "<p style=\"color:green;\">Passed</p>"
      ],
      "text/plain": [
       "<IPython.core.display.HTML object>"
      ]
     },
     "metadata": {},
     "output_type": "display_data"
    },
    {
     "name": "stdout",
     "output_type": "stream",
     "text": [
      "\n",
      "Rank:\n"
     ]
    },
    {
     "data": {
      "text/html": [
       "<p style=\"color:green;\">Passed</p>"
      ],
      "text/plain": [
       "<IPython.core.display.HTML object>"
      ]
     },
     "metadata": {},
     "output_type": "display_data"
    },
    {
     "name": "stdout",
     "output_type": "stream",
     "text": [
      "\n",
      "Unrank:\n"
     ]
    },
    {
     "data": {
      "text/html": [
       "<p style=\"color:green;\">Passed</p>"
      ],
      "text/plain": [
       "<IPython.core.display.HTML object>"
      ]
     },
     "metadata": {},
     "output_type": "display_data"
    },
    {
     "name": "stdout",
     "output_type": "stream",
     "text": [
      "\n",
      "Valuation & Count:\n"
     ]
    },
    {
     "data": {
      "text/html": [
       "<p style=\"color:green;\">Passed</p>"
      ],
      "text/plain": [
       "<IPython.core.display.HTML object>"
      ]
     },
     "metadata": {},
     "output_type": "display_data"
    },
    {
     "name": "stdout",
     "output_type": "stream",
     "text": [
      "\n",
      "Tests on DyckGram\n",
      "\n",
      "\n",
      "\n",
      "Cardinality:\n"
     ]
    },
    {
     "data": {
      "text/html": [
       "<p style=\"color:green;\">Passed</p>"
      ],
      "text/plain": [
       "<IPython.core.display.HTML object>"
      ]
     },
     "metadata": {},
     "output_type": "display_data"
    },
    {
     "name": "stdout",
     "output_type": "stream",
     "text": [
      "\n",
      "Rank:\n"
     ]
    },
    {
     "data": {
      "text/html": [
       "<p style=\"color:green;\">Passed</p>"
      ],
      "text/plain": [
       "<IPython.core.display.HTML object>"
      ]
     },
     "metadata": {},
     "output_type": "display_data"
    },
    {
     "name": "stdout",
     "output_type": "stream",
     "text": [
      "\n",
      "Unrank:\n"
     ]
    },
    {
     "data": {
      "text/html": [
       "<p style=\"color:green;\">Passed</p>"
      ],
      "text/plain": [
       "<IPython.core.display.HTML object>"
      ]
     },
     "metadata": {},
     "output_type": "display_data"
    },
    {
     "name": "stdout",
     "output_type": "stream",
     "text": [
      "\n",
      "Valuation & Count:\n"
     ]
    },
    {
     "data": {
      "text/html": [
       "<p style=\"color:green;\">Passed</p>"
      ],
      "text/plain": [
       "<IPython.core.display.HTML object>"
      ]
     },
     "metadata": {},
     "output_type": "display_data"
    },
    {
     "name": "stdout",
     "output_type": "stream",
     "text": [
      "\n",
      "Tests on EqualGram\n",
      "\n",
      "\n",
      "\n",
      "Cardinality:\n"
     ]
    },
    {
     "data": {
      "text/html": [
       "<p style=\"color:green;\">Passed</p>"
      ],
      "text/plain": [
       "<IPython.core.display.HTML object>"
      ]
     },
     "metadata": {},
     "output_type": "display_data"
    },
    {
     "name": "stdout",
     "output_type": "stream",
     "text": [
      "\n",
      "Rank:\n",
      "Rank not available for this grammar\n",
      "\n",
      "Unrank:\n"
     ]
    },
    {
     "data": {
      "text/html": [
       "<p style=\"color:green;\">Passed</p>"
      ],
      "text/plain": [
       "<IPython.core.display.HTML object>"
      ]
     },
     "metadata": {},
     "output_type": "display_data"
    },
    {
     "name": "stdout",
     "output_type": "stream",
     "text": [
      "\n",
      "Valuation & Count:\n"
     ]
    },
    {
     "data": {
      "text/html": [
       "<p style=\"color:green;\">Passed</p>"
      ],
      "text/plain": [
       "<IPython.core.display.HTML object>"
      ]
     },
     "metadata": {},
     "output_type": "display_data"
    },
    {
     "name": "stdout",
     "output_type": "stream",
     "text": [
      "\n",
      "Tests on treeGram\n",
      "\n",
      "\n",
      "\n",
      "Cardinality:\n"
     ]
    },
    {
     "data": {
      "text/html": [
       "<p style=\"color:green;\">Passed</p>"
      ],
      "text/plain": [
       "<IPython.core.display.HTML object>"
      ]
     },
     "metadata": {},
     "output_type": "display_data"
    },
    {
     "name": "stdout",
     "output_type": "stream",
     "text": [
      "\n",
      "Rank:\n"
     ]
    },
    {
     "data": {
      "text/html": [
       "<p style=\"color:green;\">Passed</p>"
      ],
      "text/plain": [
       "<IPython.core.display.HTML object>"
      ]
     },
     "metadata": {},
     "output_type": "display_data"
    },
    {
     "name": "stdout",
     "output_type": "stream",
     "text": [
      "\n",
      "Unrank:\n"
     ]
    },
    {
     "data": {
      "text/html": [
       "<p style=\"color:green;\">Passed</p>"
      ],
      "text/plain": [
       "<IPython.core.display.HTML object>"
      ]
     },
     "metadata": {},
     "output_type": "display_data"
    },
    {
     "name": "stdout",
     "output_type": "stream",
     "text": [
      "\n",
      "Valuation & Count:\n"
     ]
    },
    {
     "data": {
      "text/html": [
       "<p style=\"color:green;\">Passed</p>"
      ],
      "text/plain": [
       "<IPython.core.display.HTML object>"
      ]
     },
     "metadata": {},
     "output_type": "display_data"
    },
    {
     "name": "stdout",
     "output_type": "stream",
     "text": [
      "\n",
      "Tests on TwoGram\n",
      "\n",
      "\n",
      "\n",
      "Cardinality:\n"
     ]
    },
    {
     "data": {
      "text/html": [
       "<p style=\"color:green;\">Passed</p>"
      ],
      "text/plain": [
       "<IPython.core.display.HTML object>"
      ]
     },
     "metadata": {},
     "output_type": "display_data"
    },
    {
     "name": "stdout",
     "output_type": "stream",
     "text": [
      "\n",
      "Rank:\n"
     ]
    },
    {
     "data": {
      "text/html": [
       "<p style=\"color:green;\">Passed</p>"
      ],
      "text/plain": [
       "<IPython.core.display.HTML object>"
      ]
     },
     "metadata": {},
     "output_type": "display_data"
    },
    {
     "name": "stdout",
     "output_type": "stream",
     "text": [
      "\n",
      "Unrank:\n"
     ]
    },
    {
     "data": {
      "text/html": [
       "<p style=\"color:green;\">Passed</p>"
      ],
      "text/plain": [
       "<IPython.core.display.HTML object>"
      ]
     },
     "metadata": {},
     "output_type": "display_data"
    },
    {
     "name": "stdout",
     "output_type": "stream",
     "text": [
      "\n",
      "Valuation & Count:\n"
     ]
    },
    {
     "data": {
      "text/html": [
       "<p style=\"color:green;\">Passed</p>"
      ],
      "text/plain": [
       "<IPython.core.display.HTML object>"
      ]
     },
     "metadata": {},
     "output_type": "display_data"
    }
   ],
   "source": [
    "Test_Size = 10\n",
    "\n",
    "for g in grammars:\n",
    "    tests(g, grammars[g][0], grammars[g][1], grammars[g][2], Test_Size)\n"
   ]
  },
  {
   "cell_type": "markdown",
   "metadata": {},
   "source": [
    "On exécute également les tests sur les grammaires condensées"
   ]
  },
  {
   "cell_type": "code",
   "execution_count": 7,
   "metadata": {},
   "outputs": [
    {
     "name": "stdout",
     "output_type": "stream",
     "text": [
      "\n",
      "Tests on ABCPalindrome\n",
      "\n",
      "\n",
      "\n",
      "Cardinality:\n"
     ]
    },
    {
     "data": {
      "text/html": [
       "<p style=\"color:green;\">Passed</p>"
      ],
      "text/plain": [
       "<IPython.core.display.HTML object>"
      ]
     },
     "metadata": {},
     "output_type": "display_data"
    },
    {
     "name": "stdout",
     "output_type": "stream",
     "text": [
      "\n",
      "Rank:\n"
     ]
    },
    {
     "data": {
      "text/html": [
       "<p style=\"color:green;\">Passed</p>"
      ],
      "text/plain": [
       "<IPython.core.display.HTML object>"
      ]
     },
     "metadata": {},
     "output_type": "display_data"
    },
    {
     "name": "stdout",
     "output_type": "stream",
     "text": [
      "\n",
      "Unrank:\n"
     ]
    },
    {
     "data": {
      "text/html": [
       "<p style=\"color:green;\">Passed</p>"
      ],
      "text/plain": [
       "<IPython.core.display.HTML object>"
      ]
     },
     "metadata": {},
     "output_type": "display_data"
    },
    {
     "name": "stdout",
     "output_type": "stream",
     "text": [
      "\n",
      "Valuation & Count:\n"
     ]
    },
    {
     "data": {
      "text/html": [
       "<p style=\"color:green;\">Passed</p>"
      ],
      "text/plain": [
       "<IPython.core.display.HTML object>"
      ]
     },
     "metadata": {},
     "output_type": "display_data"
    },
    {
     "name": "stdout",
     "output_type": "stream",
     "text": [
      "\n",
      "Tests on ThreeGram\n",
      "\n",
      "\n",
      "\n",
      "Cardinality:\n"
     ]
    },
    {
     "data": {
      "text/html": [
       "<p style=\"color:green;\">Passed</p>"
      ],
      "text/plain": [
       "<IPython.core.display.HTML object>"
      ]
     },
     "metadata": {},
     "output_type": "display_data"
    },
    {
     "name": "stdout",
     "output_type": "stream",
     "text": [
      "\n",
      "Rank:\n"
     ]
    },
    {
     "data": {
      "text/html": [
       "<p style=\"color:green;\">Passed</p>"
      ],
      "text/plain": [
       "<IPython.core.display.HTML object>"
      ]
     },
     "metadata": {},
     "output_type": "display_data"
    },
    {
     "name": "stdout",
     "output_type": "stream",
     "text": [
      "\n",
      "Unrank:\n"
     ]
    },
    {
     "data": {
      "text/html": [
       "<p style=\"color:green;\">Passed</p>"
      ],
      "text/plain": [
       "<IPython.core.display.HTML object>"
      ]
     },
     "metadata": {},
     "output_type": "display_data"
    },
    {
     "name": "stdout",
     "output_type": "stream",
     "text": [
      "\n",
      "Valuation & Count:\n"
     ]
    },
    {
     "data": {
      "text/html": [
       "<p style=\"color:green;\">Passed</p>"
      ],
      "text/plain": [
       "<IPython.core.display.HTML object>"
      ]
     },
     "metadata": {},
     "output_type": "display_data"
    },
    {
     "name": "stdout",
     "output_type": "stream",
     "text": [
      "\n",
      "Tests on ABGram\n",
      "\n",
      "\n",
      "\n",
      "Cardinality:\n"
     ]
    },
    {
     "data": {
      "text/html": [
       "<p style=\"color:green;\">Passed</p>"
      ],
      "text/plain": [
       "<IPython.core.display.HTML object>"
      ]
     },
     "metadata": {},
     "output_type": "display_data"
    },
    {
     "name": "stdout",
     "output_type": "stream",
     "text": [
      "\n",
      "Rank:\n"
     ]
    },
    {
     "data": {
      "text/html": [
       "<p style=\"color:green;\">Passed</p>"
      ],
      "text/plain": [
       "<IPython.core.display.HTML object>"
      ]
     },
     "metadata": {},
     "output_type": "display_data"
    },
    {
     "name": "stdout",
     "output_type": "stream",
     "text": [
      "\n",
      "Unrank:\n"
     ]
    },
    {
     "data": {
      "text/html": [
       "<p style=\"color:green;\">Passed</p>"
      ],
      "text/plain": [
       "<IPython.core.display.HTML object>"
      ]
     },
     "metadata": {},
     "output_type": "display_data"
    },
    {
     "name": "stdout",
     "output_type": "stream",
     "text": [
      "\n",
      "Valuation & Count:\n"
     ]
    },
    {
     "data": {
      "text/html": [
       "<p style=\"color:green;\">Passed</p>"
      ],
      "text/plain": [
       "<IPython.core.display.HTML object>"
      ]
     },
     "metadata": {},
     "output_type": "display_data"
    },
    {
     "name": "stdout",
     "output_type": "stream",
     "text": [
      "\n",
      "Tests on ABPalindrome\n",
      "\n",
      "\n",
      "\n",
      "Cardinality:\n"
     ]
    },
    {
     "data": {
      "text/html": [
       "<p style=\"color:green;\">Passed</p>"
      ],
      "text/plain": [
       "<IPython.core.display.HTML object>"
      ]
     },
     "metadata": {},
     "output_type": "display_data"
    },
    {
     "name": "stdout",
     "output_type": "stream",
     "text": [
      "\n",
      "Rank:\n"
     ]
    },
    {
     "data": {
      "text/html": [
       "<p style=\"color:green;\">Passed</p>"
      ],
      "text/plain": [
       "<IPython.core.display.HTML object>"
      ]
     },
     "metadata": {},
     "output_type": "display_data"
    },
    {
     "name": "stdout",
     "output_type": "stream",
     "text": [
      "\n",
      "Unrank:\n"
     ]
    },
    {
     "data": {
      "text/html": [
       "<p style=\"color:green;\">Passed</p>"
      ],
      "text/plain": [
       "<IPython.core.display.HTML object>"
      ]
     },
     "metadata": {},
     "output_type": "display_data"
    },
    {
     "name": "stdout",
     "output_type": "stream",
     "text": [
      "\n",
      "Valuation & Count:\n"
     ]
    },
    {
     "data": {
      "text/html": [
       "<p style=\"color:green;\">Passed</p>"
      ],
      "text/plain": [
       "<IPython.core.display.HTML object>"
      ]
     },
     "metadata": {},
     "output_type": "display_data"
    },
    {
     "name": "stdout",
     "output_type": "stream",
     "text": [
      "\n",
      "Tests on fiboGram\n",
      "\n",
      "\n",
      "\n",
      "Cardinality:\n"
     ]
    },
    {
     "data": {
      "text/html": [
       "<p style=\"color:green;\">Passed</p>"
      ],
      "text/plain": [
       "<IPython.core.display.HTML object>"
      ]
     },
     "metadata": {},
     "output_type": "display_data"
    },
    {
     "name": "stdout",
     "output_type": "stream",
     "text": [
      "\n",
      "Rank:\n"
     ]
    },
    {
     "data": {
      "text/html": [
       "<p style=\"color:green;\">Passed</p>"
      ],
      "text/plain": [
       "<IPython.core.display.HTML object>"
      ]
     },
     "metadata": {},
     "output_type": "display_data"
    },
    {
     "name": "stdout",
     "output_type": "stream",
     "text": [
      "\n",
      "Unrank:\n"
     ]
    },
    {
     "data": {
      "text/html": [
       "<p style=\"color:green;\">Passed</p>"
      ],
      "text/plain": [
       "<IPython.core.display.HTML object>"
      ]
     },
     "metadata": {},
     "output_type": "display_data"
    },
    {
     "name": "stdout",
     "output_type": "stream",
     "text": [
      "\n",
      "Valuation & Count:\n"
     ]
    },
    {
     "data": {
      "text/html": [
       "<p style=\"color:green;\">Passed</p>"
      ],
      "text/plain": [
       "<IPython.core.display.HTML object>"
      ]
     },
     "metadata": {},
     "output_type": "display_data"
    },
    {
     "name": "stdout",
     "output_type": "stream",
     "text": [
      "\n",
      "Tests on DyckGram\n",
      "\n",
      "\n",
      "\n",
      "Cardinality:\n"
     ]
    },
    {
     "data": {
      "text/html": [
       "<p style=\"color:green;\">Passed</p>"
      ],
      "text/plain": [
       "<IPython.core.display.HTML object>"
      ]
     },
     "metadata": {},
     "output_type": "display_data"
    },
    {
     "name": "stdout",
     "output_type": "stream",
     "text": [
      "\n",
      "Rank:\n"
     ]
    },
    {
     "data": {
      "text/html": [
       "<p style=\"color:green;\">Passed</p>"
      ],
      "text/plain": [
       "<IPython.core.display.HTML object>"
      ]
     },
     "metadata": {},
     "output_type": "display_data"
    },
    {
     "name": "stdout",
     "output_type": "stream",
     "text": [
      "\n",
      "Unrank:\n"
     ]
    },
    {
     "data": {
      "text/html": [
       "<p style=\"color:green;\">Passed</p>"
      ],
      "text/plain": [
       "<IPython.core.display.HTML object>"
      ]
     },
     "metadata": {},
     "output_type": "display_data"
    },
    {
     "name": "stdout",
     "output_type": "stream",
     "text": [
      "\n",
      "Valuation & Count:\n"
     ]
    },
    {
     "data": {
      "text/html": [
       "<p style=\"color:green;\">Passed</p>"
      ],
      "text/plain": [
       "<IPython.core.display.HTML object>"
      ]
     },
     "metadata": {},
     "output_type": "display_data"
    },
    {
     "name": "stdout",
     "output_type": "stream",
     "text": [
      "\n",
      "Tests on EqualGram\n",
      "\n",
      "\n",
      "\n",
      "Cardinality:\n"
     ]
    },
    {
     "data": {
      "text/html": [
       "<p style=\"color:green;\">Passed</p>"
      ],
      "text/plain": [
       "<IPython.core.display.HTML object>"
      ]
     },
     "metadata": {},
     "output_type": "display_data"
    },
    {
     "name": "stdout",
     "output_type": "stream",
     "text": [
      "\n",
      "Rank:\n",
      "Rank not available for this grammar\n",
      "\n",
      "Unrank:\n"
     ]
    },
    {
     "data": {
      "text/html": [
       "<p style=\"color:green;\">Passed</p>"
      ],
      "text/plain": [
       "<IPython.core.display.HTML object>"
      ]
     },
     "metadata": {},
     "output_type": "display_data"
    },
    {
     "name": "stdout",
     "output_type": "stream",
     "text": [
      "\n",
      "Valuation & Count:\n"
     ]
    },
    {
     "data": {
      "text/html": [
       "<p style=\"color:green;\">Passed</p>"
      ],
      "text/plain": [
       "<IPython.core.display.HTML object>"
      ]
     },
     "metadata": {},
     "output_type": "display_data"
    },
    {
     "name": "stdout",
     "output_type": "stream",
     "text": [
      "\n",
      "Tests on treeGram\n",
      "\n",
      "\n",
      "\n",
      "Cardinality:\n"
     ]
    },
    {
     "data": {
      "text/html": [
       "<p style=\"color:green;\">Passed</p>"
      ],
      "text/plain": [
       "<IPython.core.display.HTML object>"
      ]
     },
     "metadata": {},
     "output_type": "display_data"
    },
    {
     "name": "stdout",
     "output_type": "stream",
     "text": [
      "\n",
      "Rank:\n"
     ]
    },
    {
     "data": {
      "text/html": [
       "<p style=\"color:green;\">Passed</p>"
      ],
      "text/plain": [
       "<IPython.core.display.HTML object>"
      ]
     },
     "metadata": {},
     "output_type": "display_data"
    },
    {
     "name": "stdout",
     "output_type": "stream",
     "text": [
      "\n",
      "Unrank:\n"
     ]
    },
    {
     "data": {
      "text/html": [
       "<p style=\"color:green;\">Passed</p>"
      ],
      "text/plain": [
       "<IPython.core.display.HTML object>"
      ]
     },
     "metadata": {},
     "output_type": "display_data"
    },
    {
     "name": "stdout",
     "output_type": "stream",
     "text": [
      "\n",
      "Valuation & Count:\n"
     ]
    },
    {
     "data": {
      "text/html": [
       "<p style=\"color:green;\">Passed</p>"
      ],
      "text/plain": [
       "<IPython.core.display.HTML object>"
      ]
     },
     "metadata": {},
     "output_type": "display_data"
    },
    {
     "name": "stdout",
     "output_type": "stream",
     "text": [
      "\n",
      "Tests on TwoGram\n",
      "\n",
      "\n",
      "\n",
      "Cardinality:\n"
     ]
    },
    {
     "data": {
      "text/html": [
       "<p style=\"color:green;\">Passed</p>"
      ],
      "text/plain": [
       "<IPython.core.display.HTML object>"
      ]
     },
     "metadata": {},
     "output_type": "display_data"
    },
    {
     "name": "stdout",
     "output_type": "stream",
     "text": [
      "\n",
      "Rank:\n"
     ]
    },
    {
     "data": {
      "text/html": [
       "<p style=\"color:green;\">Passed</p>"
      ],
      "text/plain": [
       "<IPython.core.display.HTML object>"
      ]
     },
     "metadata": {},
     "output_type": "display_data"
    },
    {
     "name": "stdout",
     "output_type": "stream",
     "text": [
      "\n",
      "Unrank:\n"
     ]
    },
    {
     "data": {
      "text/html": [
       "<p style=\"color:green;\">Passed</p>"
      ],
      "text/plain": [
       "<IPython.core.display.HTML object>"
      ]
     },
     "metadata": {},
     "output_type": "display_data"
    },
    {
     "name": "stdout",
     "output_type": "stream",
     "text": [
      "\n",
      "Valuation & Count:\n"
     ]
    },
    {
     "data": {
      "text/html": [
       "<p style=\"color:green;\">Passed</p>"
      ],
      "text/plain": [
       "<IPython.core.display.HTML object>"
      ]
     },
     "metadata": {},
     "output_type": "display_data"
    }
   ],
   "source": [
    "gramC = GC.grammarsC\n",
    "\n",
    "for g in gramC:\n",
    "    gramC[g][0] = CR.dvp_gram(gramC[g][0])\n",
    "    init_grammar(gramC[g][0])\n",
    "\n",
    "\n",
    "for g in gramC:\n",
    "    check_defined_rules(gramC[g][0])\n",
    "    tests(g, gramC[g][0], gramC[g][1], gramC[g][2], Test_Size)"
   ]
  },
  {
   "cell_type": "markdown",
   "metadata": {},
   "source": [
    "On teste que les fonctions retournent la même chose pour les mêmes grammaires exprimées sous forme développée\n",
    "ou sous forme condensée"
   ]
  },
  {
   "cell_type": "code",
   "execution_count": 10,
   "metadata": {},
   "outputs": [],
   "source": [
    "def tests_equal (name, gram1, gram2, rule_init, card_fun, n):\n",
    "    print (\"\\nTests on \"+name)\n",
    "    print(\"\\n\")\n",
    "    rule1 = gram1[rule_init]\n",
    "    rule2 = gram2[rule_init]\n",
    "    try:  \n",
    "\n",
    "        # C A R D I N A L I T Y\n",
    "\n",
    "        print (\"\\nCardinality:\")\n",
    "        for i in range(n):\n",
    "            assert (rule1.count(i) == rule2.count(i))\n",
    "        display(HTML(\"<p style=\\\"color:green;\\\">Passed</p>\"))\n",
    "\n",
    "        \n",
    "        # L I S T\n",
    "        \n",
    "        print (\"\\nList:\")\n",
    "        for i in range(n):\n",
    "            assert (rule1.list(i) == rule2.list(i))\n",
    "        display(HTML(\"<p style=\\\"color:green;\\\">Passed</p>\"))\n",
    "\n",
    "            \n",
    "        # R A N K\n",
    "\n",
    "        try:\n",
    "            print (\"\\nRank:\")\n",
    "            for j in range(n):\n",
    "                assert([rule1.rank(i) for i in rule1.list(j)] == [rule2.rank(i) for i in rule2.list(j)])\n",
    "            display(HTML(\"<p style=\\\"color:green;\\\">Passed</p>\"))\n",
    "        except NotImplementedError:\n",
    "            print (\"Rank not available for this grammar\")\n",
    "            \n",
    "        # U N R A N K\n",
    "\n",
    "        print(\"\\nUnrank:\")\n",
    "        for j in range(n):\n",
    "            assert([rule1.unrank(j, i) for i in list(range(rule1.count(j)))] == \n",
    "                   [rule2.unrank(j, i) for i in list(range(rule2.count(j)))])\n",
    "        display(HTML(\"<p style=\\\"color:green;\\\">Passed</p>\"))\n",
    "        \n",
    "    except AssertionError:\n",
    "        display(HTML(\"<p style=\\\"color:red;\\\">Not passed</p>\"))\n"
   ]
  },
  {
   "cell_type": "code",
   "execution_count": 14,
   "metadata": {
    "scrolled": true
   },
   "outputs": [
    {
     "name": "stdout",
     "output_type": "stream",
     "text": [
      "\n",
      "Tests on ABCPalindrome\n",
      "\n",
      "\n",
      "\n",
      "Cardinality:\n"
     ]
    },
    {
     "data": {
      "text/html": [
       "<p style=\"color:green;\">Passed</p>"
      ],
      "text/plain": [
       "<IPython.core.display.HTML object>"
      ]
     },
     "metadata": {},
     "output_type": "display_data"
    },
    {
     "name": "stdout",
     "output_type": "stream",
     "text": [
      "\n",
      "List:\n"
     ]
    },
    {
     "data": {
      "text/html": [
       "<p style=\"color:green;\">Passed</p>"
      ],
      "text/plain": [
       "<IPython.core.display.HTML object>"
      ]
     },
     "metadata": {},
     "output_type": "display_data"
    },
    {
     "name": "stdout",
     "output_type": "stream",
     "text": [
      "\n",
      "Rank:\n"
     ]
    },
    {
     "data": {
      "text/html": [
       "<p style=\"color:green;\">Passed</p>"
      ],
      "text/plain": [
       "<IPython.core.display.HTML object>"
      ]
     },
     "metadata": {},
     "output_type": "display_data"
    },
    {
     "name": "stdout",
     "output_type": "stream",
     "text": [
      "\n",
      "Unrank:\n"
     ]
    },
    {
     "data": {
      "text/html": [
       "<p style=\"color:green;\">Passed</p>"
      ],
      "text/plain": [
       "<IPython.core.display.HTML object>"
      ]
     },
     "metadata": {},
     "output_type": "display_data"
    },
    {
     "name": "stdout",
     "output_type": "stream",
     "text": [
      "\n",
      "Tests on ThreeGram\n",
      "\n",
      "\n",
      "\n",
      "Cardinality:\n"
     ]
    },
    {
     "data": {
      "text/html": [
       "<p style=\"color:green;\">Passed</p>"
      ],
      "text/plain": [
       "<IPython.core.display.HTML object>"
      ]
     },
     "metadata": {},
     "output_type": "display_data"
    },
    {
     "name": "stdout",
     "output_type": "stream",
     "text": [
      "\n",
      "List:\n"
     ]
    },
    {
     "data": {
      "text/html": [
       "<p style=\"color:green;\">Passed</p>"
      ],
      "text/plain": [
       "<IPython.core.display.HTML object>"
      ]
     },
     "metadata": {},
     "output_type": "display_data"
    },
    {
     "name": "stdout",
     "output_type": "stream",
     "text": [
      "\n",
      "Rank:\n"
     ]
    },
    {
     "data": {
      "text/html": [
       "<p style=\"color:green;\">Passed</p>"
      ],
      "text/plain": [
       "<IPython.core.display.HTML object>"
      ]
     },
     "metadata": {},
     "output_type": "display_data"
    },
    {
     "name": "stdout",
     "output_type": "stream",
     "text": [
      "\n",
      "Unrank:\n"
     ]
    },
    {
     "data": {
      "text/html": [
       "<p style=\"color:green;\">Passed</p>"
      ],
      "text/plain": [
       "<IPython.core.display.HTML object>"
      ]
     },
     "metadata": {},
     "output_type": "display_data"
    },
    {
     "name": "stdout",
     "output_type": "stream",
     "text": [
      "\n",
      "Tests on ABGram\n",
      "\n",
      "\n",
      "\n",
      "Cardinality:\n"
     ]
    },
    {
     "data": {
      "text/html": [
       "<p style=\"color:green;\">Passed</p>"
      ],
      "text/plain": [
       "<IPython.core.display.HTML object>"
      ]
     },
     "metadata": {},
     "output_type": "display_data"
    },
    {
     "name": "stdout",
     "output_type": "stream",
     "text": [
      "\n",
      "List:\n"
     ]
    },
    {
     "data": {
      "text/html": [
       "<p style=\"color:green;\">Passed</p>"
      ],
      "text/plain": [
       "<IPython.core.display.HTML object>"
      ]
     },
     "metadata": {},
     "output_type": "display_data"
    },
    {
     "name": "stdout",
     "output_type": "stream",
     "text": [
      "\n",
      "Rank:\n"
     ]
    },
    {
     "data": {
      "text/html": [
       "<p style=\"color:green;\">Passed</p>"
      ],
      "text/plain": [
       "<IPython.core.display.HTML object>"
      ]
     },
     "metadata": {},
     "output_type": "display_data"
    },
    {
     "name": "stdout",
     "output_type": "stream",
     "text": [
      "\n",
      "Unrank:\n"
     ]
    },
    {
     "data": {
      "text/html": [
       "<p style=\"color:green;\">Passed</p>"
      ],
      "text/plain": [
       "<IPython.core.display.HTML object>"
      ]
     },
     "metadata": {},
     "output_type": "display_data"
    },
    {
     "name": "stdout",
     "output_type": "stream",
     "text": [
      "\n",
      "Tests on ABPalindrome\n",
      "\n",
      "\n",
      "\n",
      "Cardinality:\n"
     ]
    },
    {
     "data": {
      "text/html": [
       "<p style=\"color:green;\">Passed</p>"
      ],
      "text/plain": [
       "<IPython.core.display.HTML object>"
      ]
     },
     "metadata": {},
     "output_type": "display_data"
    },
    {
     "name": "stdout",
     "output_type": "stream",
     "text": [
      "\n",
      "List:\n"
     ]
    },
    {
     "data": {
      "text/html": [
       "<p style=\"color:green;\">Passed</p>"
      ],
      "text/plain": [
       "<IPython.core.display.HTML object>"
      ]
     },
     "metadata": {},
     "output_type": "display_data"
    },
    {
     "name": "stdout",
     "output_type": "stream",
     "text": [
      "\n",
      "Rank:\n"
     ]
    },
    {
     "data": {
      "text/html": [
       "<p style=\"color:green;\">Passed</p>"
      ],
      "text/plain": [
       "<IPython.core.display.HTML object>"
      ]
     },
     "metadata": {},
     "output_type": "display_data"
    },
    {
     "name": "stdout",
     "output_type": "stream",
     "text": [
      "\n",
      "Unrank:\n"
     ]
    },
    {
     "data": {
      "text/html": [
       "<p style=\"color:green;\">Passed</p>"
      ],
      "text/plain": [
       "<IPython.core.display.HTML object>"
      ]
     },
     "metadata": {},
     "output_type": "display_data"
    },
    {
     "name": "stdout",
     "output_type": "stream",
     "text": [
      "\n",
      "Tests on fiboGram\n",
      "\n",
      "\n",
      "\n",
      "Cardinality:\n"
     ]
    },
    {
     "data": {
      "text/html": [
       "<p style=\"color:green;\">Passed</p>"
      ],
      "text/plain": [
       "<IPython.core.display.HTML object>"
      ]
     },
     "metadata": {},
     "output_type": "display_data"
    },
    {
     "name": "stdout",
     "output_type": "stream",
     "text": [
      "\n",
      "List:\n"
     ]
    },
    {
     "data": {
      "text/html": [
       "<p style=\"color:green;\">Passed</p>"
      ],
      "text/plain": [
       "<IPython.core.display.HTML object>"
      ]
     },
     "metadata": {},
     "output_type": "display_data"
    },
    {
     "name": "stdout",
     "output_type": "stream",
     "text": [
      "\n",
      "Rank:\n"
     ]
    },
    {
     "data": {
      "text/html": [
       "<p style=\"color:green;\">Passed</p>"
      ],
      "text/plain": [
       "<IPython.core.display.HTML object>"
      ]
     },
     "metadata": {},
     "output_type": "display_data"
    },
    {
     "name": "stdout",
     "output_type": "stream",
     "text": [
      "\n",
      "Unrank:\n"
     ]
    },
    {
     "data": {
      "text/html": [
       "<p style=\"color:green;\">Passed</p>"
      ],
      "text/plain": [
       "<IPython.core.display.HTML object>"
      ]
     },
     "metadata": {},
     "output_type": "display_data"
    },
    {
     "name": "stdout",
     "output_type": "stream",
     "text": [
      "\n",
      "Tests on DyckGram\n",
      "\n",
      "\n",
      "\n",
      "Cardinality:\n"
     ]
    },
    {
     "data": {
      "text/html": [
       "<p style=\"color:green;\">Passed</p>"
      ],
      "text/plain": [
       "<IPython.core.display.HTML object>"
      ]
     },
     "metadata": {},
     "output_type": "display_data"
    },
    {
     "name": "stdout",
     "output_type": "stream",
     "text": [
      "\n",
      "List:\n"
     ]
    },
    {
     "data": {
      "text/html": [
       "<p style=\"color:green;\">Passed</p>"
      ],
      "text/plain": [
       "<IPython.core.display.HTML object>"
      ]
     },
     "metadata": {},
     "output_type": "display_data"
    },
    {
     "name": "stdout",
     "output_type": "stream",
     "text": [
      "\n",
      "Rank:\n"
     ]
    },
    {
     "data": {
      "text/html": [
       "<p style=\"color:green;\">Passed</p>"
      ],
      "text/plain": [
       "<IPython.core.display.HTML object>"
      ]
     },
     "metadata": {},
     "output_type": "display_data"
    },
    {
     "name": "stdout",
     "output_type": "stream",
     "text": [
      "\n",
      "Unrank:\n"
     ]
    },
    {
     "data": {
      "text/html": [
       "<p style=\"color:green;\">Passed</p>"
      ],
      "text/plain": [
       "<IPython.core.display.HTML object>"
      ]
     },
     "metadata": {},
     "output_type": "display_data"
    },
    {
     "name": "stdout",
     "output_type": "stream",
     "text": [
      "\n",
      "Tests on EqualGram\n",
      "\n",
      "\n",
      "\n",
      "Cardinality:\n"
     ]
    },
    {
     "data": {
      "text/html": [
       "<p style=\"color:green;\">Passed</p>"
      ],
      "text/plain": [
       "<IPython.core.display.HTML object>"
      ]
     },
     "metadata": {},
     "output_type": "display_data"
    },
    {
     "name": "stdout",
     "output_type": "stream",
     "text": [
      "\n",
      "List:\n"
     ]
    },
    {
     "data": {
      "text/html": [
       "<p style=\"color:green;\">Passed</p>"
      ],
      "text/plain": [
       "<IPython.core.display.HTML object>"
      ]
     },
     "metadata": {},
     "output_type": "display_data"
    },
    {
     "name": "stdout",
     "output_type": "stream",
     "text": [
      "\n",
      "Rank:\n",
      "Rank not available for this grammar\n",
      "\n",
      "Unrank:\n"
     ]
    },
    {
     "data": {
      "text/html": [
       "<p style=\"color:green;\">Passed</p>"
      ],
      "text/plain": [
       "<IPython.core.display.HTML object>"
      ]
     },
     "metadata": {},
     "output_type": "display_data"
    },
    {
     "name": "stdout",
     "output_type": "stream",
     "text": [
      "\n",
      "Tests on treeGram\n",
      "\n",
      "\n",
      "\n",
      "Cardinality:\n"
     ]
    },
    {
     "data": {
      "text/html": [
       "<p style=\"color:green;\">Passed</p>"
      ],
      "text/plain": [
       "<IPython.core.display.HTML object>"
      ]
     },
     "metadata": {},
     "output_type": "display_data"
    },
    {
     "name": "stdout",
     "output_type": "stream",
     "text": [
      "\n",
      "List:\n"
     ]
    },
    {
     "data": {
      "text/html": [
       "<p style=\"color:green;\">Passed</p>"
      ],
      "text/plain": [
       "<IPython.core.display.HTML object>"
      ]
     },
     "metadata": {},
     "output_type": "display_data"
    },
    {
     "name": "stdout",
     "output_type": "stream",
     "text": [
      "\n",
      "Rank:\n"
     ]
    },
    {
     "data": {
      "text/html": [
       "<p style=\"color:green;\">Passed</p>"
      ],
      "text/plain": [
       "<IPython.core.display.HTML object>"
      ]
     },
     "metadata": {},
     "output_type": "display_data"
    },
    {
     "name": "stdout",
     "output_type": "stream",
     "text": [
      "\n",
      "Unrank:\n"
     ]
    },
    {
     "data": {
      "text/html": [
       "<p style=\"color:green;\">Passed</p>"
      ],
      "text/plain": [
       "<IPython.core.display.HTML object>"
      ]
     },
     "metadata": {},
     "output_type": "display_data"
    },
    {
     "name": "stdout",
     "output_type": "stream",
     "text": [
      "\n",
      "Tests on TwoGram\n",
      "\n",
      "\n",
      "\n",
      "Cardinality:\n"
     ]
    },
    {
     "data": {
      "text/html": [
       "<p style=\"color:green;\">Passed</p>"
      ],
      "text/plain": [
       "<IPython.core.display.HTML object>"
      ]
     },
     "metadata": {},
     "output_type": "display_data"
    },
    {
     "name": "stdout",
     "output_type": "stream",
     "text": [
      "\n",
      "List:\n"
     ]
    },
    {
     "data": {
      "text/html": [
       "<p style=\"color:green;\">Passed</p>"
      ],
      "text/plain": [
       "<IPython.core.display.HTML object>"
      ]
     },
     "metadata": {},
     "output_type": "display_data"
    },
    {
     "name": "stdout",
     "output_type": "stream",
     "text": [
      "\n",
      "Rank:\n"
     ]
    },
    {
     "data": {
      "text/html": [
       "<p style=\"color:green;\">Passed</p>"
      ],
      "text/plain": [
       "<IPython.core.display.HTML object>"
      ]
     },
     "metadata": {},
     "output_type": "display_data"
    },
    {
     "name": "stdout",
     "output_type": "stream",
     "text": [
      "\n",
      "Unrank:\n"
     ]
    },
    {
     "data": {
      "text/html": [
       "<p style=\"color:green;\">Passed</p>"
      ],
      "text/plain": [
       "<IPython.core.display.HTML object>"
      ]
     },
     "metadata": {},
     "output_type": "display_data"
    }
   ],
   "source": [
    "for g in gramC:\n",
    "    tests_equal(g, gramC[g][0], grammars[g][0], gramC[g][1], gramC[g][2], Test_Size)"
   ]
  },
  {
   "cell_type": "markdown",
   "metadata": {},
   "source": [
    "## Exemples"
   ]
  },
  {
   "cell_type": "markdown",
   "metadata": {
    "collapsed": true
   },
   "source": [
    "### Mots sur l'alphabet AB"
   ]
  },
  {
   "cell_type": "code",
   "execution_count": 19,
   "metadata": {},
   "outputs": [
    {
     "name": "stdout",
     "output_type": "stream",
     "text": [
      "['AAA', 'AAB', 'ABA', 'ABB', 'BAA', 'BAB', 'BBA', 'BBB']\n",
      "8\n",
      "6\n",
      "BAA\n",
      "BBAAAABABB\n"
     ]
    }
   ],
   "source": [
    "r = grammars[\"ABGram\"][0][\"AB\"]\n",
    "print(r.list(3))\n",
    "print(r.count(3))\n",
    "print(r.rank('BBA'))\n",
    "print(r.unrank(3, 4))\n",
    "print(r.random(10))"
   ]
  },
  {
   "cell_type": "markdown",
   "metadata": {
    "collapsed": true
   },
   "source": [
    "### Arbres"
   ]
  },
  {
   "cell_type": "code",
   "execution_count": 25,
   "metadata": {},
   "outputs": [
    {
     "name": "stdout",
     "output_type": "stream",
     "text": [
      "[(Leaf, (Leaf, (Leaf, Leaf))), (Leaf, ((Leaf, Leaf), Leaf)), ((Leaf, Leaf), (Leaf, Leaf)), ((Leaf, (Leaf, Leaf)), Leaf), (((Leaf, Leaf), Leaf), Leaf)]\n",
      "5\n",
      "((Leaf, Leaf), (Leaf, Leaf))\n",
      "((Leaf, ((Leaf, (Leaf, (Leaf, Leaf))), ((Leaf, Leaf), (Leaf, Leaf)))), Leaf)\n"
     ]
    }
   ],
   "source": [
    "r = grammars[\"treeGram\"][0][\"Tree\"]\n",
    "print(r.list(4))\n",
    "print(r.count(4))\n",
    "print(r.unrank(4, 2))\n",
    "print(r.random(10))"
   ]
  },
  {
   "cell_type": "markdown",
   "metadata": {},
   "source": [
    "### Mots de Fibonacci"
   ]
  },
  {
   "cell_type": "code",
   "execution_count": 27,
   "metadata": {},
   "outputs": [
    {
     "name": "stdout",
     "output_type": "stream",
     "text": [
      "['AAAA', 'AAAB', 'AABA', 'ABAA', 'ABAB', 'BAAA', 'BAAB', 'BABA']\n",
      "8\n",
      "AABA\n",
      "7\n",
      "AABAAABAAB\n"
     ]
    }
   ],
   "source": [
    "r = grammars[\"fiboGram\"][0][\"Fib\"]\n",
    "print(r.list(4))\n",
    "print(r.count(4))\n",
    "print(r.unrank(4, 2))\n",
    "print(r.rank('BABA'))\n",
    "print(r.random(10))"
   ]
  },
  {
   "cell_type": "markdown",
   "metadata": {},
   "source": [
    "### Mots bien parenthésés"
   ]
  },
  {
   "cell_type": "code",
   "execution_count": 36,
   "metadata": {},
   "outputs": [
    {
     "name": "stdout",
     "output_type": "stream",
     "text": [
      "['((()))', '(()())', '()(())', '(())()', '()()()']\n",
      "[]\n",
      "5\n",
      "((()))\n",
      "()((()()))\n"
     ]
    }
   ],
   "source": [
    "r = grammars[\"DyckGram\"][0][\"Dyck\"]\n",
    "print(r.list(6))\n",
    "print(r.list(7))\n",
    "print(r.count(6))\n",
    "print(r.unrank(6, 0))\n",
    "print(r.random(10))"
   ]
  },
  {
   "cell_type": "markdown",
   "metadata": {},
   "source": [
    "### Palindromes sur A, B"
   ]
  },
  {
   "cell_type": "code",
   "execution_count": 39,
   "metadata": {},
   "outputs": [
    {
     "name": "stdout",
     "output_type": "stream",
     "text": [
      "['AAAAA', 'AABAA', 'ABABA', 'ABBBA', 'BAAAB', 'BABAB', 'BBABB', 'BBBBB']\n",
      "8\n",
      "1\n",
      "ABBBA\n",
      "ABABAABABA\n"
     ]
    }
   ],
   "source": [
    "r = grammars[\"ABPalindrome\"][0][\"Pal\"]\n",
    "print(r.list(5))\n",
    "print(r.count(5))\n",
    "print(r.rank('AABAA'))\n",
    "print(r.unrank(5, 3))\n",
    "print(r.random(10))"
   ]
  },
  {
   "cell_type": "markdown",
   "metadata": {},
   "source": [
    "### Palindromes sur A, B, C"
   ]
  },
  {
   "cell_type": "code",
   "execution_count": 41,
   "metadata": {},
   "outputs": [
    {
     "name": "stdout",
     "output_type": "stream",
     "text": [
      "['AAAAA', 'AABAA', 'AACAA', 'ABABA', 'ABBBA', 'ABCBA', 'ACACA', 'ACBCA', 'ACCCA', 'BAAAB', 'BABAB', 'BACAB', 'BBABB', 'BBBBB', 'BBCBB', 'BCACB', 'BCBCB', 'BCCCB', 'CAAAC', 'CABAC', 'CACAC', 'CBABC', 'CBBBC', 'CBCBC', 'CCACC', 'CCBCC', 'CCCCC']\n",
      "27\n",
      "7\n",
      "ABABA\n",
      "AABBAABBAA\n"
     ]
    }
   ],
   "source": [
    "r = grammars[\"ABCPalindrome\"][0][\"Pal\"]\n",
    "print(r.list(5))\n",
    "print(r.count(5))\n",
    "print(r.rank('ACBCA'))\n",
    "print(r.unrank(5, 3))\n",
    "print(r.random(10))"
   ]
  },
  {
   "cell_type": "markdown",
   "metadata": {},
   "source": [
    "### Mots avec le meme nombre de A que de B"
   ]
  },
  {
   "cell_type": "code",
   "execution_count": 44,
   "metadata": {},
   "outputs": [
    {
     "name": "stdout",
     "output_type": "stream",
     "text": [
      "['ABABAB', 'ABABBA', 'ABAABB', 'ABBAAB', 'ABBABA', 'ABBBAA', 'AABBAB', 'AABBBA', 'AABABB', 'AAABBB', 'BAABAB', 'BAABBA', 'BAAABB', 'BABAAB', 'BABABA', 'BABBAA', 'BBAAAB', 'BBAABA', 'BBABAA', 'BBBAAA']\n",
      "0\n",
      "20\n"
     ]
    },
    {
     "ename": "NotImplementedError",
     "evalue": "To call rank, provide function as arg",
     "output_type": "error",
     "traceback": [
      "\u001b[0;31m---------------------------------------------------------------------------\u001b[0m",
      "\u001b[0;31mNotImplementedError\u001b[0m                       Traceback (most recent call last)",
      "\u001b[0;32m<ipython-input-44-ea720516e45b>\u001b[0m in \u001b[0;36m<module>\u001b[0;34m()\u001b[0m\n\u001b[1;32m      3\u001b[0m \u001b[0mprint\u001b[0m\u001b[0;34m(\u001b[0m\u001b[0mr\u001b[0m\u001b[0;34m.\u001b[0m\u001b[0mcount\u001b[0m\u001b[0;34m(\u001b[0m\u001b[0;36m5\u001b[0m\u001b[0;34m)\u001b[0m\u001b[0;34m)\u001b[0m\u001b[0;34m\u001b[0m\u001b[0m\n\u001b[1;32m      4\u001b[0m \u001b[0mprint\u001b[0m\u001b[0;34m(\u001b[0m\u001b[0mr\u001b[0m\u001b[0;34m.\u001b[0m\u001b[0mcount\u001b[0m\u001b[0;34m(\u001b[0m\u001b[0;36m6\u001b[0m\u001b[0;34m)\u001b[0m\u001b[0;34m)\u001b[0m\u001b[0;34m\u001b[0m\u001b[0m\n\u001b[0;32m----> 5\u001b[0;31m \u001b[0mprint\u001b[0m\u001b[0;34m(\u001b[0m\u001b[0mr\u001b[0m\u001b[0;34m.\u001b[0m\u001b[0mrank\u001b[0m\u001b[0;34m(\u001b[0m\u001b[0;34m'AABABB'\u001b[0m\u001b[0;34m)\u001b[0m\u001b[0;34m)\u001b[0m\u001b[0;34m\u001b[0m\u001b[0m\n\u001b[0m\u001b[1;32m      6\u001b[0m \u001b[0mprint\u001b[0m\u001b[0;34m(\u001b[0m\u001b[0mr\u001b[0m\u001b[0;34m.\u001b[0m\u001b[0munrank\u001b[0m\u001b[0;34m(\u001b[0m\u001b[0;36m5\u001b[0m\u001b[0;34m,\u001b[0m \u001b[0;36m3\u001b[0m\u001b[0;34m)\u001b[0m\u001b[0;34m)\u001b[0m\u001b[0;34m\u001b[0m\u001b[0m\n\u001b[1;32m      7\u001b[0m \u001b[0mprint\u001b[0m\u001b[0;34m(\u001b[0m\u001b[0mr\u001b[0m\u001b[0;34m.\u001b[0m\u001b[0mrandom\u001b[0m\u001b[0;34m(\u001b[0m\u001b[0;36m10\u001b[0m\u001b[0;34m)\u001b[0m\u001b[0;34m)\u001b[0m\u001b[0;34m\u001b[0m\u001b[0m\n",
      "\u001b[0;32m~/Documents/Combinatoire/CombiProj/Rules.py\u001b[0m in \u001b[0;36mrank\u001b[0;34m(self, obj)\u001b[0m\n\u001b[1;32m    285\u001b[0m             \u001b[0;31m# L'objet dérive de la seconde règle, il faut ajouter\u001b[0m\u001b[0;34m\u001b[0m\u001b[0;34m\u001b[0m\u001b[0m\n\u001b[1;32m    286\u001b[0m             \u001b[0;31m# le nombre d'objet créés par la première règle\u001b[0m\u001b[0;34m\u001b[0m\u001b[0;34m\u001b[0m\u001b[0m\n\u001b[0;32m--> 287\u001b[0;31m             \u001b[0;32mreturn\u001b[0m \u001b[0mfst\u001b[0m\u001b[0;34m.\u001b[0m\u001b[0mcount\u001b[0m\u001b[0;34m(\u001b[0m\u001b[0mlen\u001b[0m\u001b[0;34m(\u001b[0m\u001b[0mobj\u001b[0m\u001b[0;34m)\u001b[0m\u001b[0;34m)\u001b[0m \u001b[0;34m+\u001b[0m \u001b[0msnd\u001b[0m\u001b[0;34m.\u001b[0m\u001b[0mrank\u001b[0m\u001b[0;34m(\u001b[0m\u001b[0mobj\u001b[0m\u001b[0;34m)\u001b[0m\u001b[0;34m\u001b[0m\u001b[0m\n\u001b[0m\u001b[1;32m    288\u001b[0m \u001b[0;34m\u001b[0m\u001b[0m\n\u001b[1;32m    289\u001b[0m     '''\n",
      "\u001b[0;32m~/Documents/Combinatoire/CombiProj/Rules.py\u001b[0m in \u001b[0;36mrank\u001b[0;34m(self, obj)\u001b[0m\n\u001b[1;32m    281\u001b[0m         \u001b[0;32mif\u001b[0m \u001b[0mself\u001b[0m\u001b[0;34m.\u001b[0m\u001b[0m_derive_from_first\u001b[0m\u001b[0;34m(\u001b[0m\u001b[0mobj\u001b[0m\u001b[0;34m)\u001b[0m\u001b[0;34m:\u001b[0m\u001b[0;34m\u001b[0m\u001b[0m\n\u001b[1;32m    282\u001b[0m             \u001b[0;31m# L'objet dérive de la première règle\u001b[0m\u001b[0;34m\u001b[0m\u001b[0;34m\u001b[0m\u001b[0m\n\u001b[0;32m--> 283\u001b[0;31m             \u001b[0;32mreturn\u001b[0m \u001b[0mfst\u001b[0m\u001b[0;34m.\u001b[0m\u001b[0mrank\u001b[0m\u001b[0;34m(\u001b[0m\u001b[0mobj\u001b[0m\u001b[0;34m)\u001b[0m\u001b[0;34m\u001b[0m\u001b[0m\n\u001b[0m\u001b[1;32m    284\u001b[0m         \u001b[0;32melse\u001b[0m\u001b[0;34m:\u001b[0m\u001b[0;34m\u001b[0m\u001b[0m\n\u001b[1;32m    285\u001b[0m             \u001b[0;31m# L'objet dérive de la seconde règle, il faut ajouter\u001b[0m\u001b[0;34m\u001b[0m\u001b[0;34m\u001b[0m\u001b[0m\n",
      "\u001b[0;32m~/Documents/Combinatoire/CombiProj/Rules.py\u001b[0m in \u001b[0;36mrank\u001b[0;34m(self, obj)\u001b[0m\n\u001b[1;32m    374\u001b[0m         \u001b[0;32mfor\u001b[0m \u001b[0mi\u001b[0m \u001b[0;32min\u001b[0m \u001b[0mrange\u001b[0m \u001b[0;34m(\u001b[0m\u001b[0mlen\u001b[0m\u001b[0;34m(\u001b[0m\u001b[0me1\u001b[0m\u001b[0;34m)\u001b[0m\u001b[0;34m)\u001b[0m\u001b[0;34m:\u001b[0m\u001b[0;34m\u001b[0m\u001b[0m\n\u001b[1;32m    375\u001b[0m             \u001b[0mn\u001b[0m \u001b[0;34m+=\u001b[0m \u001b[0mfst\u001b[0m\u001b[0;34m.\u001b[0m\u001b[0mcount\u001b[0m\u001b[0;34m(\u001b[0m\u001b[0mi\u001b[0m\u001b[0;34m)\u001b[0m \u001b[0;34m*\u001b[0m \u001b[0msnd\u001b[0m\u001b[0;34m.\u001b[0m\u001b[0mcount\u001b[0m\u001b[0;34m(\u001b[0m\u001b[0ms\u001b[0m \u001b[0;34m-\u001b[0m \u001b[0mi\u001b[0m\u001b[0;34m)\u001b[0m\u001b[0;34m\u001b[0m\u001b[0m\n\u001b[0;32m--> 376\u001b[0;31m         \u001b[0;32mreturn\u001b[0m \u001b[0mn\u001b[0m \u001b[0;34m+\u001b[0m \u001b[0mfst\u001b[0m\u001b[0;34m.\u001b[0m\u001b[0mrank\u001b[0m\u001b[0;34m(\u001b[0m\u001b[0me1\u001b[0m\u001b[0;34m)\u001b[0m \u001b[0;34m*\u001b[0m \u001b[0msnd\u001b[0m\u001b[0;34m.\u001b[0m\u001b[0mcount\u001b[0m\u001b[0;34m(\u001b[0m\u001b[0mlen\u001b[0m\u001b[0;34m(\u001b[0m\u001b[0me2\u001b[0m\u001b[0;34m)\u001b[0m\u001b[0;34m)\u001b[0m \u001b[0;34m+\u001b[0m \u001b[0msnd\u001b[0m\u001b[0;34m.\u001b[0m\u001b[0mrank\u001b[0m\u001b[0;34m(\u001b[0m\u001b[0me2\u001b[0m\u001b[0;34m)\u001b[0m\u001b[0;34m\u001b[0m\u001b[0m\n\u001b[0m\u001b[1;32m    377\u001b[0m \u001b[0;34m\u001b[0m\u001b[0m\n\u001b[1;32m    378\u001b[0m     '''\n",
      "\u001b[0;32m~/Documents/Combinatoire/CombiProj/Rules.py\u001b[0m in \u001b[0;36mrank\u001b[0;34m(self, obj)\u001b[0m\n\u001b[1;32m    366\u001b[0m     \u001b[0;32mdef\u001b[0m \u001b[0mrank\u001b[0m\u001b[0;34m(\u001b[0m\u001b[0mself\u001b[0m\u001b[0;34m,\u001b[0m \u001b[0mobj\u001b[0m\u001b[0;34m)\u001b[0m\u001b[0;34m:\u001b[0m\u001b[0;34m\u001b[0m\u001b[0m\n\u001b[1;32m    367\u001b[0m         \u001b[0;32mif\u001b[0m \u001b[0;34m(\u001b[0m\u001b[0mself\u001b[0m\u001b[0;34m.\u001b[0m\u001b[0m_get_pair\u001b[0m \u001b[0;34m==\u001b[0m \u001b[0;32mNone\u001b[0m\u001b[0;34m)\u001b[0m\u001b[0;34m:\u001b[0m\u001b[0;34m\u001b[0m\u001b[0m\n\u001b[0;32m--> 368\u001b[0;31m             \u001b[0;32mraise\u001b[0m \u001b[0mNotImplementedError\u001b[0m\u001b[0;34m(\u001b[0m\u001b[0;34m\"To call rank, provide function as arg\"\u001b[0m\u001b[0;34m)\u001b[0m\u001b[0;34m\u001b[0m\u001b[0m\n\u001b[0m\u001b[1;32m    369\u001b[0m \u001b[0;34m\u001b[0m\u001b[0m\n\u001b[1;32m    370\u001b[0m         \u001b[0mfst\u001b[0m\u001b[0;34m,\u001b[0m \u001b[0msnd\u001b[0m \u001b[0;34m=\u001b[0m \u001b[0mself\u001b[0m\u001b[0;34m.\u001b[0m\u001b[0mget_param_rules\u001b[0m\u001b[0;34m(\u001b[0m\u001b[0;34m)\u001b[0m\u001b[0;34m\u001b[0m\u001b[0m\n",
      "\u001b[0;31mNotImplementedError\u001b[0m: To call rank, provide function as arg"
     ]
    }
   ],
   "source": [
    "r = grammars[\"EqualGram\"][0][\"S\"]\n",
    "print(r.list(6))\n",
    "print(r.count(5))\n",
    "print(r.count(6))\n",
    "print(r.rank('AABABB'))\n",
    "print(r.unrank(5, 3))\n",
    "print(r.random(10))"
   ]
  },
  {
   "cell_type": "code",
   "execution_count": null,
   "metadata": {},
   "outputs": [],
   "source": []
  }
 ],
 "metadata": {
  "kernelspec": {
   "display_name": "Python 2",
   "language": "python",
   "name": "python2"
  },
  "language_info": {
   "codemirror_mode": {
    "name": "ipython",
    "version": 3
   },
   "file_extension": ".py",
   "mimetype": "text/x-python",
   "name": "python",
   "nbconvert_exporter": "python",
   "pygments_lexer": "ipython3",
   "version": "3.5.2"
  }
 },
 "nbformat": 4,
 "nbformat_minor": 2
}
